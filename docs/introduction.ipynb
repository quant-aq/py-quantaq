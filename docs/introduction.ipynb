{
 "cells": [
  {
   "cell_type": "markdown",
   "metadata": {},
   "source": [
    "# The quantaq API Wrapper\n",
    "\n",
    "The following is an very, very small intro into the QuantAQ API wrapper. It should give you a good idea of what is possible and will be completely documented in due time.\n",
    "\n",
    "We have designed the API wrapper to provide as much flexibility and functionality as possible - allowing you, the user, to interact with the data in three formats: pandas DataFrame's, json, or python objects. The idea here is that it is much easier to edit and update objects, but is easier to download lots of data either as a dataframe or a list of json objects. Thus, you can do all three!\n",
    "\n",
    "## Authentication\n",
    "\n",
    "To get started, you must first request an API Key. You can do so at https://www.quant-aq.com/api-keys. Once you have your API key, store it as an environment variable called **QUANTAQ_APIKEY**."
   ]
  },
  {
   "cell_type": "code",
   "execution_count": 1,
   "metadata": {},
   "outputs": [
    {
     "name": "stdout",
     "output_type": "stream",
     "text": [
      "quantaq v0.1.0\n"
     ]
    }
   ],
   "source": [
    "import quantaq\n",
    "\n",
    "print (\"quantaq v{}\".format(quantaq.__version__))"
   ]
  },
  {
   "cell_type": "markdown",
   "metadata": {},
   "source": [
    "## Initialize a QuantAQ object\n",
    "\n",
    "To start, we will first setup an object of the manager, called `quantaq.QuantAQ`. If you haven't stored your api key as an environment variable, or have called it something else, feel free to enter it here."
   ]
  },
  {
   "cell_type": "code",
   "execution_count": 5,
   "metadata": {},
   "outputs": [
    {
     "data": {
      "text/plain": [
       "<QuantAQ>"
      ]
     },
     "execution_count": 5,
     "metadata": {},
     "output_type": "execute_result"
    }
   ],
   "source": [
    "import os\n",
    "\n",
    "# get the token from a different environment variable\n",
    "token = os.environ.get(\"QUANTAQ_APIKEY_DEV\")\n",
    "\n",
    "# set up the quantaq.QuantAQ object\n",
    "# here, we are also going to manually set the endpoint because I am doing this tutorial on \n",
    "# localhost...\n",
    "api = quantaq.QuantAQ(token=token, endpoint=\"http://localhost:5000/api/\")\n",
    "\n",
    "api"
   ]
  },
  {
   "cell_type": "markdown",
   "metadata": {},
   "source": [
    "## `quantaq.QuantAQ(*args, **kwargs)`\n",
    "\n",
    "The QuantAQ (can also be called the 'manager') object provides a simple way to view information about all the devices you have access to with your account. Remember, the API key is tied to your account, so don't share the key with anyone!  Please keep it safe and sound.\n",
    "\n",
    "Below, I will detail a few of the methods available from the manager:\n",
    "\n",
    "### `quantaq.QuantAQ.get_account()`\n",
    "\n",
    "The `get_account` method simply retrieves the account information tied to your API key as a `quantaq.Account` object."
   ]
  },
  {
   "cell_type": "code",
   "execution_count": 12,
   "metadata": {},
   "outputs": [
    {
     "name": "stdout",
     "output_type": "stream",
     "text": [
      "david\n",
      "david@davidhhagan.com\n",
      "True\n",
      "2019-03-03T15:35:51.393685\n"
     ]
    }
   ],
   "source": [
    "account = api.get_account()\n",
    "\n",
    "# print out details about the user\n",
    "print (account.username)\n",
    "print (account.email)\n",
    "print (account.confirmed)\n",
    "print (account.member_since)"
   ]
  },
  {
   "cell_type": "markdown",
   "metadata": {},
   "source": [
    "### `quantaq.QuantAQ.get_devices(return_type='json', **kwargs)`\n",
    "\n",
    "With the `get_devices` method, we can retrieve all the devices we have access to. You can return them either as 'json', 'object', or 'dataframe'. Let's try all three:\n",
    "\n",
    "#### json"
   ]
  },
  {
   "cell_type": "code",
   "execution_count": 13,
   "metadata": {},
   "outputs": [
    {
     "data": {
      "text/plain": [
       "[{'city': '',\n",
       "  'country': 'US',\n",
       "  'created': '2019-03-03T17:50:16.829776',\n",
       "  'description': '',\n",
       "  'geo': {'lat': None, 'lon': None},\n",
       "  'id': 1,\n",
       "  'last_seen': '2019-03-15T22:15:21.439988',\n",
       "  'model': 'arisense_v200',\n",
       "  'n_datapoints': 60,\n",
       "  'outdoors': True,\n",
       "  'owner_id': 1,\n",
       "  'particle_device_id': '4a002a000351373330393736',\n",
       "  'private': False,\n",
       "  'sn': 'SN000-001',\n",
       "  'status': 'CALIBRATION',\n",
       "  'timezone': 'US/Eastern',\n",
       "  'url': 'https://localhost:5000/api/v1/devices/SN000-001'},\n",
       " {'city': '',\n",
       "  'country': 'US',\n",
       "  'created': '2019-03-04T02:38:42.676984',\n",
       "  'description': '',\n",
       "  'geo': {'lat': None, 'lon': None},\n",
       "  'id': 2,\n",
       "  'last_seen': '2019-03-15T22:32:05.016094',\n",
       "  'model': 'arisense_v200',\n",
       "  'n_datapoints': 180,\n",
       "  'outdoors': True,\n",
       "  'owner_id': 1,\n",
       "  'particle_device_id': '',\n",
       "  'private': False,\n",
       "  'sn': 'SN002',\n",
       "  'status': 'ACTIVE',\n",
       "  'timezone': 'US/Eastern',\n",
       "  'url': 'https://localhost:5000/api/v1/devices/SN002'}]"
      ]
     },
     "execution_count": 13,
     "metadata": {},
     "output_type": "execute_result"
    }
   ],
   "source": [
    "api.get_devices()"
   ]
  },
  {
   "cell_type": "markdown",
   "metadata": {},
   "source": [
    "#### dataframe"
   ]
  },
  {
   "cell_type": "code",
   "execution_count": 28,
   "metadata": {},
   "outputs": [
    {
     "data": {
      "text/html": [
       "<div>\n",
       "<style scoped>\n",
       "    .dataframe tbody tr th:only-of-type {\n",
       "        vertical-align: middle;\n",
       "    }\n",
       "\n",
       "    .dataframe tbody tr th {\n",
       "        vertical-align: top;\n",
       "    }\n",
       "\n",
       "    .dataframe thead th {\n",
       "        text-align: right;\n",
       "    }\n",
       "</style>\n",
       "<table border=\"1\" class=\"dataframe\">\n",
       "  <thead>\n",
       "    <tr style=\"text-align: right;\">\n",
       "      <th></th>\n",
       "      <th>city</th>\n",
       "      <th>country</th>\n",
       "      <th>created</th>\n",
       "      <th>description</th>\n",
       "      <th>geo.lat</th>\n",
       "      <th>geo.lon</th>\n",
       "      <th>id</th>\n",
       "      <th>last_seen</th>\n",
       "      <th>model</th>\n",
       "      <th>n_datapoints</th>\n",
       "      <th>outdoors</th>\n",
       "      <th>owner_id</th>\n",
       "      <th>particle_device_id</th>\n",
       "      <th>private</th>\n",
       "      <th>sn</th>\n",
       "      <th>status</th>\n",
       "      <th>timezone</th>\n",
       "      <th>url</th>\n",
       "    </tr>\n",
       "  </thead>\n",
       "  <tbody>\n",
       "    <tr>\n",
       "      <th>0</th>\n",
       "      <td></td>\n",
       "      <td>US</td>\n",
       "      <td>2019-03-03T17:50:16.829776</td>\n",
       "      <td></td>\n",
       "      <td>None</td>\n",
       "      <td>None</td>\n",
       "      <td>1</td>\n",
       "      <td>2019-03-15T22:15:21.439988</td>\n",
       "      <td>arisense_v200</td>\n",
       "      <td>60</td>\n",
       "      <td>True</td>\n",
       "      <td>1</td>\n",
       "      <td>4a002a000351373330393736</td>\n",
       "      <td>False</td>\n",
       "      <td>SN000-001</td>\n",
       "      <td>CALIBRATION</td>\n",
       "      <td>US/Eastern</td>\n",
       "      <td>https://localhost:5000/api/v1/devices/SN000-001</td>\n",
       "    </tr>\n",
       "    <tr>\n",
       "      <th>1</th>\n",
       "      <td></td>\n",
       "      <td>US</td>\n",
       "      <td>2019-03-04T02:38:42.676984</td>\n",
       "      <td></td>\n",
       "      <td>None</td>\n",
       "      <td>None</td>\n",
       "      <td>2</td>\n",
       "      <td>2019-03-15T22:32:05.016094</td>\n",
       "      <td>arisense_v200</td>\n",
       "      <td>180</td>\n",
       "      <td>True</td>\n",
       "      <td>1</td>\n",
       "      <td></td>\n",
       "      <td>False</td>\n",
       "      <td>SN002</td>\n",
       "      <td>ACTIVE</td>\n",
       "      <td>US/Eastern</td>\n",
       "      <td>https://localhost:5000/api/v1/devices/SN002</td>\n",
       "    </tr>\n",
       "  </tbody>\n",
       "</table>\n",
       "</div>"
      ],
      "text/plain": [
       "  city country                     created description geo.lat geo.lon  id  \\\n",
       "0           US  2019-03-03T17:50:16.829776                None    None   1   \n",
       "1           US  2019-03-04T02:38:42.676984                None    None   2   \n",
       "\n",
       "                    last_seen          model  n_datapoints  outdoors  \\\n",
       "0  2019-03-15T22:15:21.439988  arisense_v200            60      True   \n",
       "1  2019-03-15T22:32:05.016094  arisense_v200           180      True   \n",
       "\n",
       "   owner_id        particle_device_id  private         sn       status  \\\n",
       "0         1  4a002a000351373330393736    False  SN000-001  CALIBRATION   \n",
       "1         1                              False      SN002       ACTIVE   \n",
       "\n",
       "     timezone                                              url  \n",
       "0  US/Eastern  https://localhost:5000/api/v1/devices/SN000-001  \n",
       "1  US/Eastern      https://localhost:5000/api/v1/devices/SN002  "
      ]
     },
     "execution_count": 28,
     "metadata": {},
     "output_type": "execute_result"
    }
   ],
   "source": [
    "api.get_devices(return_type='dataframe')"
   ]
  },
  {
   "cell_type": "markdown",
   "metadata": {},
   "source": [
    "#### object"
   ]
  },
  {
   "cell_type": "code",
   "execution_count": 15,
   "metadata": {},
   "outputs": [
    {
     "data": {
      "text/plain": [
       "[<Device: SN000-001>, <Device: SN002>]"
      ]
     },
     "execution_count": 15,
     "metadata": {},
     "output_type": "execute_result"
    }
   ],
   "source": [
    "api.get_devices(return_type='object')"
   ]
  },
  {
   "cell_type": "markdown",
   "metadata": {},
   "source": [
    "You should also be able to send whatever query params you want as keywords:"
   ]
  },
  {
   "cell_type": "code",
   "execution_count": 31,
   "metadata": {},
   "outputs": [
    {
     "data": {
      "text/plain": [
       "[{'city': '',\n",
       "  'country': 'US',\n",
       "  'created': '2019-03-03T17:50:16.829776',\n",
       "  'description': '',\n",
       "  'geo': {'lat': None, 'lon': None},\n",
       "  'id': 1,\n",
       "  'last_seen': '2019-03-15T22:15:21.439988',\n",
       "  'model': 'arisense_v200',\n",
       "  'n_datapoints': 60,\n",
       "  'outdoors': True,\n",
       "  'owner_id': 1,\n",
       "  'particle_device_id': '4a002a000351373330393736',\n",
       "  'private': False,\n",
       "  'sn': 'SN000-001',\n",
       "  'status': 'CALIBRATION',\n",
       "  'timezone': 'US/Eastern',\n",
       "  'url': 'https://localhost:5000/api/v1/devices/SN000-001'}]"
      ]
     },
     "execution_count": 31,
     "metadata": {},
     "output_type": "execute_result"
    }
   ],
   "source": [
    "api.get_devices(params=dict(limit=1))"
   ]
  },
  {
   "cell_type": "markdown",
   "metadata": {},
   "source": [
    "### `quantaq.QuantAQ.get_device(sn)`\n",
    "\n",
    "You can get a single device, as an object, by using this method. It returns an instance of the `quantaq.Device` class that provides its own useful methods."
   ]
  },
  {
   "cell_type": "code",
   "execution_count": 33,
   "metadata": {},
   "outputs": [
    {
     "data": {
      "text/plain": [
       "'SN000-001'"
      ]
     },
     "execution_count": 33,
     "metadata": {},
     "output_type": "execute_result"
    }
   ],
   "source": [
    "d = api.get_device(sn=\"SN000-001\")\n",
    "\n",
    "d.sn"
   ]
  },
  {
   "cell_type": "markdown",
   "metadata": {},
   "source": [
    "### `quantaq.QuantAQ.post_device(params)`\n",
    "\n",
    "Use this method to post a new device with params as a dictionary."
   ]
  },
  {
   "cell_type": "code",
   "execution_count": 39,
   "metadata": {},
   "outputs": [
    {
     "ename": "NotImplementedError",
     "evalue": "Not yet implemented.",
     "output_type": "error",
     "traceback": [
      "\u001b[0;31m---------------------------------------------------------------------------\u001b[0m",
      "\u001b[0;31mNotImplementedError\u001b[0m                       Traceback (most recent call last)",
      "\u001b[0;32m<ipython-input-39-cb01b90065af>\u001b[0m in \u001b[0;36m<module>\u001b[0;34m()\u001b[0m\n\u001b[1;32m      6\u001b[0m }\n\u001b[1;32m      7\u001b[0m \u001b[0;34m\u001b[0m\u001b[0m\n\u001b[0;32m----> 8\u001b[0;31m \u001b[0mnew\u001b[0m \u001b[0;34m=\u001b[0m \u001b[0mapi\u001b[0m\u001b[0;34m.\u001b[0m\u001b[0mpost_device\u001b[0m\u001b[0;34m(\u001b[0m\u001b[0mnew_device\u001b[0m\u001b[0;34m)\u001b[0m\u001b[0;34m\u001b[0m\u001b[0m\n\u001b[0m",
      "\u001b[0;32m~/.pyenv/versions/3.6.5/lib/python3.6/site-packages/quantaq-0.1.0-py3.6.egg/quantaq/Manager.py\u001b[0m in \u001b[0;36mpost_device\u001b[0;34m(self, params, return_type)\u001b[0m\n\u001b[1;32m     47\u001b[0m         \"\"\"Add a new device.\n\u001b[1;32m     48\u001b[0m         \"\"\"\n\u001b[0;32m---> 49\u001b[0;31m         \u001b[0;32mraise\u001b[0m \u001b[0mNotImplementedError\u001b[0m\u001b[0;34m(\u001b[0m\u001b[0;34m\"Not yet implemented.\"\u001b[0m\u001b[0;34m)\u001b[0m\u001b[0;34m\u001b[0m\u001b[0m\n\u001b[0m\u001b[1;32m     50\u001b[0m \u001b[0;34m\u001b[0m\u001b[0m\n\u001b[1;32m     51\u001b[0m \u001b[0;34m\u001b[0m\u001b[0m\n",
      "\u001b[0;31mNotImplementedError\u001b[0m: Not yet implemented."
     ]
    }
   ],
   "source": [
    "new_device = {\n",
    "    'sn': \"TMP-001\",\n",
    "    'model': \"arisense_v200\",\n",
    "    'city': \"Cambridge\",\n",
    "    'country': \"US\"\n",
    "}\n",
    "\n",
    "new = api.post_device(new_device)"
   ]
  },
  {
   "cell_type": "code",
   "execution_count": null,
   "metadata": {},
   "outputs": [],
   "source": []
  }
 ],
 "metadata": {
  "kernelspec": {
   "display_name": "Python 3",
   "language": "python",
   "name": "python3"
  },
  "language_info": {
   "codemirror_mode": {
    "name": "ipython",
    "version": 3
   },
   "file_extension": ".py",
   "mimetype": "text/x-python",
   "name": "python",
   "nbconvert_exporter": "python",
   "pygments_lexer": "ipython3",
   "version": "3.6.5"
  }
 },
 "nbformat": 4,
 "nbformat_minor": 2
}
